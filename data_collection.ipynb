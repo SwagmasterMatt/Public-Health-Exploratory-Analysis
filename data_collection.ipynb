{
 "cells": [
  {
   "cell_type": "markdown",
   "metadata": {},
   "source": [
    "# Data Collection\n",
    "\n",
    "The goal of this file is to create a Dataframe which contains metrics for each county in North Carolina."
   ]
  },
  {
   "cell_type": "code",
   "execution_count": null,
   "metadata": {},
   "outputs": [],
   "source": [
    "# Dependencies\n",
    "\n",
    "# TODO Add dependencies\n",
    "import pandas as pd\n",
    "import json\n",
    "from pathlib import path"
   ]
  },
  {
   "cell_type": "code",
   "execution_count": null,
   "metadata": {},
   "outputs": [],
   "source": [
    "# Create primary Dataframe called county_data.\n",
    "\n",
    "# TODO Initialize primary Dataframe for 100 counties (county_data)\n",
    "\n",
    "# TODO Read in csv files from Resources directory as their own DataFrames, then merge with county_data.\n",
    "\n",
    "# TODO Rename any columns."
   ]
  },
  {
   "cell_type": "code",
   "execution_count": null,
   "metadata": {},
   "outputs": [],
   "source": [
    "# Data cleaning.\n",
    "\n",
    "# TODO Check length of df, run df.dropnas(), see new length.  Are we losing important data?"
   ]
  }
 ],
 "metadata": {
  "language_info": {
   "name": "python"
  },
  "orig_nbformat": 4
 },
 "nbformat": 4,
 "nbformat_minor": 2
}
